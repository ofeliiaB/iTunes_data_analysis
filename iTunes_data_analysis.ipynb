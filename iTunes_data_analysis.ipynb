{
 "cells": [
  {
   "cell_type": "markdown",
   "metadata": {
    "collapsed": true
   },
   "source": [
    "# iTunes Media Store Data Analysis"
   ]
  },
  {
   "cell_type": "markdown",
   "metadata": {},
   "source": [
    "## 1. Project Description"
   ]
  },
  {
   "cell_type": "markdown",
   "metadata": {},
   "source": [
    "## 2. Setup"
   ]
  },
  {
   "cell_type": "markdown",
   "metadata": {},
   "source": [
    "**Installing ipython-sql**"
   ]
  },
  {
   "cell_type": "code",
   "execution_count": 37,
   "metadata": {},
   "outputs": [],
   "source": [
    "!pip3 install ipython-sql"
   ]
  },
  {
   "cell_type": "markdown",
   "metadata": {},
   "source": [
    "**Loading the database**"
   ]
  },
  {
   "cell_type": "code",
   "execution_count": 5,
   "metadata": {},
   "outputs": [],
   "source": [
    "%%capture\n",
    "%load_ext sql\n",
    "%sql sqlite:///chinook.db"
   ]
  },
  {
   "cell_type": "markdown",
   "metadata": {},
   "source": [
    "**Getting familiar with the database**"
   ]
  },
  {
   "cell_type": "code",
   "execution_count": 6,
   "metadata": {},
   "outputs": [
    {
     "name": "stdout",
     "output_type": "stream",
     "text": [
      " * sqlite:///chinook.db\n",
      "Done.\n"
     ]
    },
    {
     "data": {
      "text/html": [
       "<table>\n",
       "    <tr>\n",
       "        <th>name</th>\n",
       "        <th>type</th>\n",
       "    </tr>\n",
       "    <tr>\n",
       "        <td>album</td>\n",
       "        <td>table</td>\n",
       "    </tr>\n",
       "    <tr>\n",
       "        <td>artist</td>\n",
       "        <td>table</td>\n",
       "    </tr>\n",
       "    <tr>\n",
       "        <td>customer</td>\n",
       "        <td>table</td>\n",
       "    </tr>\n",
       "    <tr>\n",
       "        <td>employee</td>\n",
       "        <td>table</td>\n",
       "    </tr>\n",
       "    <tr>\n",
       "        <td>genre</td>\n",
       "        <td>table</td>\n",
       "    </tr>\n",
       "    <tr>\n",
       "        <td>invoice</td>\n",
       "        <td>table</td>\n",
       "    </tr>\n",
       "    <tr>\n",
       "        <td>invoice_line</td>\n",
       "        <td>table</td>\n",
       "    </tr>\n",
       "    <tr>\n",
       "        <td>media_type</td>\n",
       "        <td>table</td>\n",
       "    </tr>\n",
       "    <tr>\n",
       "        <td>playlist</td>\n",
       "        <td>table</td>\n",
       "    </tr>\n",
       "    <tr>\n",
       "        <td>playlist_track</td>\n",
       "        <td>table</td>\n",
       "    </tr>\n",
       "    <tr>\n",
       "        <td>track</td>\n",
       "        <td>table</td>\n",
       "    </tr>\n",
       "</table>"
      ],
      "text/plain": [
       "[('album', 'table'),\n",
       " ('artist', 'table'),\n",
       " ('customer', 'table'),\n",
       " ('employee', 'table'),\n",
       " ('genre', 'table'),\n",
       " ('invoice', 'table'),\n",
       " ('invoice_line', 'table'),\n",
       " ('media_type', 'table'),\n",
       " ('playlist', 'table'),\n",
       " ('playlist_track', 'table'),\n",
       " ('track', 'table')]"
      ]
     },
     "execution_count": 6,
     "metadata": {},
     "output_type": "execute_result"
    }
   ],
   "source": [
    "%%sql\n",
    "SELECT\n",
    "    name,\n",
    "    type\n",
    "FROM sqlite_master\n",
    "WHERE type IN (\"table\",\"view\");"
   ]
  },
  {
   "cell_type": "markdown",
   "metadata": {},
   "source": [
    "## 3. Best-Selling Genres"
   ]
  },
  {
   "cell_type": "markdown",
   "metadata": {},
   "source": [
    "<br>Invoice Line table doesnt directly contain information on genres, however, \n",
    "<br>it has a foreign key to the track table from which the genre information can be retrieved."
   ]
  },
  {
   "cell_type": "code",
   "execution_count": 63,
   "metadata": {},
   "outputs": [
    {
     "name": "stdout",
     "output_type": "stream",
     "text": [
      " * sqlite:///chinook.db\n",
      "Done.\n"
     ]
    },
    {
     "data": {
      "text/html": [
       "<table>\n",
       "    <tr>\n",
       "        <th>genre</th>\n",
       "        <th>number_sold</th>\n",
       "        <th>percentage</th>\n",
       "    </tr>\n",
       "    <tr>\n",
       "        <td>Rock</td>\n",
       "        <td>2635</td>\n",
       "        <td>55.3920538154299</td>\n",
       "    </tr>\n",
       "    <tr>\n",
       "        <td>Metal</td>\n",
       "        <td>619</td>\n",
       "        <td>13.012402774858103</td>\n",
       "    </tr>\n",
       "    <tr>\n",
       "        <td>Alternative &amp; Punk</td>\n",
       "        <td>492</td>\n",
       "        <td>10.342652932520496</td>\n",
       "    </tr>\n",
       "    <tr>\n",
       "        <td>Latin</td>\n",
       "        <td>167</td>\n",
       "        <td>3.510615934412445</td>\n",
       "    </tr>\n",
       "    <tr>\n",
       "        <td>R&amp;B/Soul</td>\n",
       "        <td>159</td>\n",
       "        <td>3.3424427159974774</td>\n",
       "    </tr>\n",
       "    <tr>\n",
       "        <td>Blues</td>\n",
       "        <td>124</td>\n",
       "        <td>2.606684885431995</td>\n",
       "    </tr>\n",
       "    <tr>\n",
       "        <td>Jazz</td>\n",
       "        <td>121</td>\n",
       "        <td>2.543619928526382</td>\n",
       "    </tr>\n",
       "    <tr>\n",
       "        <td>Alternative</td>\n",
       "        <td>117</td>\n",
       "        <td>2.4595333193188984</td>\n",
       "    </tr>\n",
       "    <tr>\n",
       "        <td>Easy Listening</td>\n",
       "        <td>74</td>\n",
       "        <td>1.5556022703384484</td>\n",
       "    </tr>\n",
       "    <tr>\n",
       "        <td>Pop</td>\n",
       "        <td>63</td>\n",
       "        <td>1.3243640950178683</td>\n",
       "    </tr>\n",
       "    <tr>\n",
       "        <td>Electronica/Dance</td>\n",
       "        <td>55</td>\n",
       "        <td>1.156190876602901</td>\n",
       "    </tr>\n",
       "    <tr>\n",
       "        <td>Classical</td>\n",
       "        <td>47</td>\n",
       "        <td>0.9880176581879335</td>\n",
       "    </tr>\n",
       "    <tr>\n",
       "        <td>Reggae</td>\n",
       "        <td>35</td>\n",
       "        <td>0.7357578305654824</td>\n",
       "    </tr>\n",
       "    <tr>\n",
       "        <td>Hip Hop/Rap</td>\n",
       "        <td>33</td>\n",
       "        <td>0.6937145259617407</td>\n",
       "    </tr>\n",
       "    <tr>\n",
       "        <td>Heavy Metal</td>\n",
       "        <td>8</td>\n",
       "        <td>0.16817321841496743</td>\n",
       "    </tr>\n",
       "    <tr>\n",
       "        <td>Soundtrack</td>\n",
       "        <td>5</td>\n",
       "        <td>0.10510826150935462</td>\n",
       "    </tr>\n",
       "    <tr>\n",
       "        <td>TV Shows</td>\n",
       "        <td>2</td>\n",
       "        <td>0.04204330460374186</td>\n",
       "    </tr>\n",
       "    <tr>\n",
       "        <td>Drama</td>\n",
       "        <td>1</td>\n",
       "        <td>0.02102165230187093</td>\n",
       "    </tr>\n",
       "</table>"
      ],
      "text/plain": [
       "[('Rock', 2635, 55.3920538154299),\n",
       " ('Metal', 619, 13.012402774858103),\n",
       " ('Alternative & Punk', 492, 10.342652932520496),\n",
       " ('Latin', 167, 3.510615934412445),\n",
       " ('R&B/Soul', 159, 3.3424427159974774),\n",
       " ('Blues', 124, 2.606684885431995),\n",
       " ('Jazz', 121, 2.543619928526382),\n",
       " ('Alternative', 117, 2.4595333193188984),\n",
       " ('Easy Listening', 74, 1.5556022703384484),\n",
       " ('Pop', 63, 1.3243640950178683),\n",
       " ('Electronica/Dance', 55, 1.156190876602901),\n",
       " ('Classical', 47, 0.9880176581879335),\n",
       " ('Reggae', 35, 0.7357578305654824),\n",
       " ('Hip Hop/Rap', 33, 0.6937145259617407),\n",
       " ('Heavy Metal', 8, 0.16817321841496743),\n",
       " ('Soundtrack', 5, 0.10510826150935462),\n",
       " ('TV Shows', 2, 0.04204330460374186),\n",
       " ('Drama', 1, 0.02102165230187093)]"
      ]
     },
     "execution_count": 63,
     "metadata": {},
     "output_type": "execute_result"
    }
   ],
   "source": [
    "%%sql\n",
    "WITH \n",
    "    genre_count AS\n",
    "    (\n",
    "        SELECT g.name AS genre, COUNT(il.quantity) AS number_of_tracks_sold\n",
    "        FROM invoice_line AS il\n",
    "        INNER JOIN track AS t ON il.track_id = t.track_id\n",
    "        INNER JOIN genre g ON t.genre_id = g.genre_id\n",
    "        GROUP BY genre\n",
    "        ORDER BY number_of_tracks_sold DESC\n",
    "    ),\n",
    "    total AS\n",
    "    (\n",
    "        SELECT COUNT(*) AS total_sold FROM invoice_line\n",
    "    )\n",
    "\n",
    "SELECT gc.genre AS genre, \n",
    "        gc.number_of_tracks_sold AS number_sold, \n",
    "        (CAST(gc.number_of_tracks_sold AS REAL) / t.total_sold)*100 AS percentage \n",
    "FROM genre_count gc, total t;"
   ]
  },
  {
   "cell_type": "markdown",
   "metadata": {},
   "source": [
    "> The 5 top-selling genres are Rock, Metal, Alternative & Punk, Latin and R&B/Soul. The store shall consider this info when buying new tracks."
   ]
  },
  {
   "cell_type": "markdown",
   "metadata": {},
   "source": [
    "## 4. Top Sales Agents"
   ]
  },
  {
   "cell_type": "code",
   "execution_count": 83,
   "metadata": {},
   "outputs": [
    {
     "name": "stdout",
     "output_type": "stream",
     "text": [
      " * sqlite:///chinook.db\n",
      "Done.\n"
     ]
    },
    {
     "data": {
      "text/html": [
       "<table>\n",
       "    <tr>\n",
       "        <th>sales_agent_name</th>\n",
       "        <th>total_sales</th>\n",
       "    </tr>\n",
       "    <tr>\n",
       "        <td>Jane Peacock</td>\n",
       "        <td>1731.5099999999998</td>\n",
       "    </tr>\n",
       "    <tr>\n",
       "        <td>Margaret Park</td>\n",
       "        <td>1584.0</td>\n",
       "    </tr>\n",
       "    <tr>\n",
       "        <td>Steve Johnson</td>\n",
       "        <td>1393.92</td>\n",
       "    </tr>\n",
       "</table>"
      ],
      "text/plain": [
       "[('Jane Peacock', 1731.5099999999998),\n",
       " ('Margaret Park', 1584.0),\n",
       " ('Steve Johnson', 1393.92)]"
      ]
     },
     "execution_count": 83,
     "metadata": {},
     "output_type": "execute_result"
    }
   ],
   "source": [
    "%%sql\n",
    "WITH \n",
    "    customer_spent AS\n",
    "    (\n",
    "        SELECT c.customer_id AS customer, \n",
    "                SUM(i.total) AS total_spent\n",
    "        FROM invoice i\n",
    "        INNER JOIN customer c ON i.customer_id = c.customer_id\n",
    "        GROUP BY c.customer_id\n",
    "        ORDER BY total_spent DESC\n",
    "    ),\n",
    "    employee_customer AS\n",
    "    (\n",
    "        SELECT e.first_name || \" \" || e.last_name AS sales_agent_name,\n",
    "                c.customer_id AS customer\n",
    "        FROM employee e\n",
    "        LEFT JOIN customer c ON c.support_rep_id = e.employee_id\n",
    "    )\n",
    "\n",
    "SELECT ec.sales_agent_name, SUM(cs.total_spent) AS total_sales\n",
    "FROM customer_spent cs\n",
    "INNER JOIN employee_customer ec ON ec.customer = cs.customer\n",
    "GROUP BY ec.sales_agent_name\n",
    "ORDER BY total_sales DESC;"
   ]
  },
  {
   "cell_type": "markdown",
   "metadata": {},
   "source": [
    "> The top-performing Sales Agent is Jane. "
   ]
  },
  {
   "cell_type": "markdown",
   "metadata": {},
   "source": [
    "## 5. Analysis of Sales by Country"
   ]
  },
  {
   "cell_type": "code",
   "execution_count": null,
   "metadata": {},
   "outputs": [],
   "source": []
  },
  {
   "cell_type": "code",
   "execution_count": null,
   "metadata": {},
   "outputs": [],
   "source": []
  },
  {
   "cell_type": "markdown",
   "metadata": {},
   "source": [
    "## 6. Album vs Individual Track Sales"
   ]
  },
  {
   "cell_type": "code",
   "execution_count": null,
   "metadata": {},
   "outputs": [],
   "source": []
  }
 ],
 "metadata": {
  "kernelspec": {
   "display_name": "Python 3",
   "language": "python",
   "name": "python3"
  },
  "language_info": {
   "codemirror_mode": {
    "name": "ipython",
    "version": 3
   },
   "file_extension": ".py",
   "mimetype": "text/x-python",
   "name": "python",
   "nbconvert_exporter": "python",
   "pygments_lexer": "ipython3",
   "version": "3.9.1"
  }
 },
 "nbformat": 4,
 "nbformat_minor": 2
}
